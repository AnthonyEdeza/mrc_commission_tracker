{
  "cells": [
    {
      "cell_type": "markdown",
      "metadata": {
        "id": "view-in-github",
        "colab_type": "text"
      },
      "source": [
        "<a href=\"https://colab.research.google.com/github/AnthonyEdeza/mrc_commission_tracker/blob/main/mrc_commission_tracker.ipynb\" target=\"_parent\"><img src=\"https://colab.research.google.com/assets/colab-badge.svg\" alt=\"Open In Colab\"/></a>"
      ]
    },
    {
      "cell_type": "code",
      "source": [
        "!pip install XlsxWriter"
      ],
      "metadata": {
        "colab": {
          "base_uri": "https://localhost:8080/"
        },
        "id": "FxCpcB83jS7e",
        "outputId": "330c7566-a1e8-477b-cc2b-cf5a077290e5"
      },
      "id": "FxCpcB83jS7e",
      "execution_count": 1,
      "outputs": [
        {
          "output_type": "stream",
          "name": "stdout",
          "text": [
            "Collecting XlsxWriter\n",
            "  Downloading xlsxwriter-3.2.9-py3-none-any.whl.metadata (2.7 kB)\n",
            "Downloading xlsxwriter-3.2.9-py3-none-any.whl (175 kB)\n",
            "\u001b[?25l   \u001b[90m━━━━━━━━━━━━━━━━━━━━━━━━━━━━━━━━━━━━━━━━\u001b[0m \u001b[32m0.0/175.3 kB\u001b[0m \u001b[31m?\u001b[0m eta \u001b[36m-:--:--\u001b[0m\r\u001b[2K   \u001b[91m━━━━━━━━━━━━━━━━━━━━━━━━━━━━━━━━━━━\u001b[0m\u001b[90m╺\u001b[0m\u001b[90m━━━━\u001b[0m \u001b[32m153.6/175.3 kB\u001b[0m \u001b[31m4.3 MB/s\u001b[0m eta \u001b[36m0:00:01\u001b[0m\r\u001b[2K   \u001b[90m━━━━━━━━━━━━━━━━━━━━━━━━━━━━━━━━━━━━━━━━\u001b[0m \u001b[32m175.3/175.3 kB\u001b[0m \u001b[31m3.6 MB/s\u001b[0m eta \u001b[36m0:00:00\u001b[0m\n",
            "\u001b[?25hInstalling collected packages: XlsxWriter\n",
            "Successfully installed XlsxWriter-3.2.9\n"
          ]
        }
      ]
    },
    {
      "cell_type": "code",
      "execution_count": 2,
      "id": "78afeb6c",
      "metadata": {
        "id": "78afeb6c"
      },
      "outputs": [],
      "source": [
        "\n",
        "# Importing libraries and packages:\n",
        "from sklearn.neural_network import MLPClassifier\n",
        "\n",
        "from sklearn.model_selection import train_test_split\n",
        "from sklearn.model_selection import cross_val_score\n",
        "from sklearn.metrics import accuracy_score\n",
        "from sklearn import metrics\n",
        "import matplotlib.pyplot as plt\n",
        "import numpy as np\n",
        "import pandas as pd\n",
        "import calendar\n",
        "import re\n",
        "\n",
        "import os\n"
      ]
    },
    {
      "cell_type": "code",
      "source": [
        "\n",
        "# Initialize a dictionary to store the DataFrames\n",
        "dfs = {}\n",
        "\n",
        "# Get the list of all files in the current directory\n",
        "files = [f for f in os.listdir() if f.endswith('.csv')]  # Only CSVs\n",
        "\n",
        "# Sort files by month\n",
        "month_order = list(calendar.month_abbr)[1:]\n",
        "files.sort(key=lambda x: month_order.index(re.match(r\"([a-zA-Z]+)\", x, re.I).group(0)[:3].capitalize()))\n",
        "\n",
        "# Iterate over the sorted list of files and process each CSV file\n",
        "for file in files:\n",
        "\n",
        "    # Read the CSV file\n",
        "    df = pd.read_csv(file)\n",
        "\n",
        "    # Adding 'Notes' to data frame\n",
        "    df['Notes'] = pd.Series(dtype='float64')\n",
        "\n",
        "    # Possibly needed, but has not been in use as of 09/01/23\n",
        "    df['Brand'].replace({'Boost': 'Tn', 'Virgin': 'BTN'}, inplace=True)\n",
        "\n",
        "    mask = (df['Total Commissions to Date'] != 0) & (df['Deactivation Date'].isnull())& ~df['Base Plan'].str.contains('ACP', case=False)\n",
        "\n",
        "    filtered_df = df[mask]\n",
        "\n",
        "    condensed_df = filtered_df.loc[mask, ['Phone Number','Notes','Brand', '1st MRC Payment','2nd MRC Payment','3rd MRC Payment','4th MRC Payment']]\n",
        "\n",
        "    # Sort by '1st MRC Payment in ascending order'\n",
        "    condensed_df = condensed_df.sort_values(by=\"1st MRC Payment\")\n",
        "\n",
        "    # Store the DataFrame in the dictionary\n",
        "    dfs[file] = condensed_df\n",
        "\n",
        "# Accessing each DataFrame using the file name as the key\n",
        "for file_name, dataframe in dfs.items():\n",
        "    print(f\"File: {file_name}\")\n",
        "    print(dataframe.head())  # Print the first 5 rows of each DataFrame, as an example\n"
      ],
      "metadata": {
        "colab": {
          "base_uri": "https://localhost:8080/"
        },
        "id": "C4NliQceiDui",
        "outputId": "910bc41c-7a9b-4378-8ad4-0bc8daf1832a"
      },
      "id": "C4NliQceiDui",
      "execution_count": 3,
      "outputs": [
        {
          "output_type": "stream",
          "name": "stdout",
          "text": [
            "File: jun20230905_SANITIZED.csv\n",
            "    Phone Number  Notes Brand 1st MRC Payment 2nd MRC Payment 3rd MRC Payment  \\\n",
            "3   555-413-6997    NaN   BTN      06/01/2023      08/01/2023             NaN   \n",
            "5   555-846-6855    NaN   BTN      06/01/2023      08/01/2023             NaN   \n",
            "6   555-189-2130    NaN   BTN      06/02/2023      08/03/2023             NaN   \n",
            "22  555-525-6139    NaN   BTN      06/05/2023      07/05/2023      08/05/2023   \n",
            "15  555-823-8503    NaN   BTN      06/05/2023      07/05/2023      08/03/2023   \n",
            "\n",
            "   4th MRC Payment  \n",
            "3              NaN  \n",
            "5              NaN  \n",
            "6              NaN  \n",
            "22             NaN  \n",
            "15             NaN  \n",
            "File: jul20230915_SANITIZED.csv\n",
            "     Phone Number  Notes Brand 1st MRC Payment 2nd MRC Payment  \\\n",
            "16   555-301-8242    NaN   BTN      07/02/2023      08/02/2023   \n",
            "32   555-500-9646    NaN   BTN      07/02/2023      08/02/2023   \n",
            "47   555-971-4171    NaN   BTN      07/03/2023      08/06/2023   \n",
            "104  555-241-4089    NaN   BTN      07/03/2023      08/06/2023   \n",
            "60   555-674-9004    NaN   BTN      07/03/2023      08/06/2023   \n",
            "\n",
            "    3rd MRC Payment  4th MRC Payment  \n",
            "16       09/02/2023              NaN  \n",
            "32       09/02/2023              NaN  \n",
            "47              NaN              NaN  \n",
            "104             NaN              NaN  \n",
            "60              NaN              NaN  \n",
            "File: aug20230915_SANITIZED.csv\n",
            "    Phone Number  Notes Brand 1st MRC Payment 2nd MRC Payment  \\\n",
            "64  555-852-7965    NaN   BTN      08/02/2023             NaN   \n",
            "5   555-822-9261    NaN   BTN      08/02/2023             NaN   \n",
            "18  555-526-2317    NaN   BTN      08/02/2023             NaN   \n",
            "75  555-870-1309    NaN   BTN      08/03/2023      09/06/2023   \n",
            "40  555-152-1389    NaN   BTN      08/03/2023             NaN   \n",
            "\n",
            "    3rd MRC Payment  4th MRC Payment  \n",
            "64              NaN              NaN  \n",
            "5               NaN              NaN  \n",
            "18              NaN              NaN  \n",
            "75              NaN              NaN  \n",
            "40              NaN              NaN  \n"
          ]
        },
        {
          "output_type": "stream",
          "name": "stderr",
          "text": [
            "/tmp/ipython-input-3739538797.py:21: FutureWarning: A value is trying to be set on a copy of a DataFrame or Series through chained assignment using an inplace method.\n",
            "The behavior will change in pandas 3.0. This inplace method will never work because the intermediate object on which we are setting values always behaves as a copy.\n",
            "\n",
            "For example, when doing 'df[col].method(value, inplace=True)', try using 'df.method({col: value}, inplace=True)' or df[col] = df[col].method(value) instead, to perform the operation inplace on the original object.\n",
            "\n",
            "\n",
            "  df['Brand'].replace({'Boost': 'Tn', 'Virgin': 'BTN'}, inplace=True)\n",
            "/tmp/ipython-input-3739538797.py:21: FutureWarning: A value is trying to be set on a copy of a DataFrame or Series through chained assignment using an inplace method.\n",
            "The behavior will change in pandas 3.0. This inplace method will never work because the intermediate object on which we are setting values always behaves as a copy.\n",
            "\n",
            "For example, when doing 'df[col].method(value, inplace=True)', try using 'df.method({col: value}, inplace=True)' or df[col] = df[col].method(value) instead, to perform the operation inplace on the original object.\n",
            "\n",
            "\n",
            "  df['Brand'].replace({'Boost': 'Tn', 'Virgin': 'BTN'}, inplace=True)\n",
            "/tmp/ipython-input-3739538797.py:21: FutureWarning: A value is trying to be set on a copy of a DataFrame or Series through chained assignment using an inplace method.\n",
            "The behavior will change in pandas 3.0. This inplace method will never work because the intermediate object on which we are setting values always behaves as a copy.\n",
            "\n",
            "For example, when doing 'df[col].method(value, inplace=True)', try using 'df.method({col: value}, inplace=True)' or df[col] = df[col].method(value) instead, to perform the operation inplace on the original object.\n",
            "\n",
            "\n",
            "  df['Brand'].replace({'Boost': 'Tn', 'Virgin': 'BTN'}, inplace=True)\n"
          ]
        }
      ]
    },
    {
      "cell_type": "code",
      "execution_count": 4,
      "id": "931b628b",
      "metadata": {
        "id": "931b628b"
      },
      "outputs": [],
      "source": [
        "\n",
        "# def used to manipulate dataframe to create, manipulate and store modified dataframe\n",
        "def MRC(target_month, df):\n",
        "    processed_dfs = {}\n",
        "\n",
        "    '''second MR is next'''\n",
        "    mask = (df['2nd MRC Payment'].isnull()) & (df['3rd MRC Payment'].isnull())\n",
        "    mrc2_df = df.loc[mask, ['Phone Number','Notes','Brand', '1st MRC Payment','2nd MRC Payment']]\n",
        "    mrc2_df['1st MRC Payment'] = pd.to_datetime(mrc2_df['1st MRC Payment'], format='%m/%d/%Y')\n",
        "    mrc2_df['2nd MRC Payment'] = mrc2_df['1st MRC Payment'] + pd.Timedelta(days=48) # adding 48 days to 1st mrc to determine 2nd mr\n",
        "    mrc2_df['2nd MRC Payment'] = mrc2_df['2nd MRC Payment'].dt.strftime('%m/%d/%Y')\n",
        "    mrc2_df['1st MRC Payment'] = mrc2_df['1st MRC Payment'].dt.strftime('%m/%d/%Y')\n",
        "\n",
        "    ''' third MR is next '''\n",
        "    mask = (df['2nd MRC Payment'].notnull()) & (df['3rd MRC Payment'].isnull())\n",
        "    mrc3_df = df.loc[mask, ['Phone Number','Notes','Brand', '1st MRC Payment','2nd MRC Payment', '3rd MRC Payment']]\n",
        "    mrc3_df['1st MRC Payment'] = pd.to_datetime(mrc3_df['1st MRC Payment'], format='%m/%d/%Y')\n",
        "    mrc3_df['3rd MRC Payment'] = mrc3_df['1st MRC Payment'] + pd.Timedelta(days=96) # adding 96 days to 1st mrc to determine 3rd mr\n",
        "    mrc3_df['3rd MRC Payment'] = mrc3_df['3rd MRC Payment'].dt.strftime('%m/%d/%Y')\n",
        "    mrc3_df['1st MRC Payment'] = mrc3_df['1st MRC Payment'].dt.strftime('%m/%d/%Y')\n",
        "\n",
        "    ''' fourth MR is next '''\n",
        "    mask = (df['3rd MRC Payment'].notnull()) & (df['4th MRC Payment'].isnull())\n",
        "    mrc4_df = df.loc[mask, ['Phone Number','Notes','Brand', '1st MRC Payment','2nd MRC Payment', '3rd MRC Payment', '4th MRC Payment']]\n",
        "    mrc4_df['1st MRC Payment'] = pd.to_datetime(mrc4_df['1st MRC Payment'], format='%m/%d/%Y')\n",
        "    mrc4_df['4th MRC Payment'] = mrc4_df['1st MRC Payment'] + pd.Timedelta(days=144) # adding 144 days to 1st mrc to determine 4th mr\n",
        "    mrc4_df['4th MRC Payment'] = mrc4_df['4th MRC Payment'].dt.strftime('%m/%d/%Y')\n",
        "    mrc4_df['1st MRC Payment'] = mrc4_df['1st MRC Payment'].dt.strftime('%m/%d/%Y')\n",
        "\n",
        "    processed_dfs[f'{target_month}_2nd MRC'] = mrc2_df\n",
        "    processed_dfs[f'{target_month}_3rd MRC'] = mrc3_df\n",
        "    processed_dfs[f'{target_month}_4th MRC'] = mrc4_df\n",
        "\n",
        "    return processed_dfs"
      ]
    },
    {
      "cell_type": "code",
      "source": [
        "\n",
        "import calendar\n",
        "import re\n",
        "\n",
        "# Define the Excel writer with the desired Excel file name\n",
        "with pd.ExcelWriter('combined_mrc_sheets.xlsx', engine='xlsxwriter') as writer:\n",
        "    # Iterate over the dictionary of input data frames.\n",
        "    for file_name, dataframe in dfs.items():\n",
        "\n",
        "        # Extract month abbreviation and year from file_name\n",
        "        # Assuming filenames are like 'jul20230915.csv' or 'july20230915.csv' (where month is followed by numbers)\n",
        "        match = re.match(r\"([a-zA-Z]+)([0-9]+)\", file_name, re.I)\n",
        "        if match:\n",
        "            month_str, year_str = match.groups()\n",
        "            # Abbreviating the month\n",
        "            month_abbr = next((abbr for abbr, full in zip(calendar.month_abbr[1:], calendar.month_name[1:]) if month_str.lower() in full.lower()), month_str)\n",
        "\n",
        "            # Process the input data frame using the MRC function.\n",
        "            processed_dfs = MRC(file_name, dataframe)\n",
        "\n",
        "            # Write each processed data frame to a different sheet.\n",
        "            for sheet_name, processed_df in processed_dfs.items():\n",
        "                # Use only the month abbreviation in the sheet name\n",
        "                new_sheet_name = f\"{month_abbr}_{sheet_name.split('_')[-1]}\"\n",
        "                processed_df.to_excel(writer, sheet_name=new_sheet_name, index=False)\n",
        "\n"
      ],
      "metadata": {
        "id": "sit6b1wVX6fe"
      },
      "id": "sit6b1wVX6fe",
      "execution_count": 5,
      "outputs": []
    },
    {
      "cell_type": "code",
      "source": [
        "from google.colab import files\n",
        "\n",
        "files.download('combined_mrc_sheets.xlsx')\n"
      ],
      "metadata": {
        "colab": {
          "base_uri": "https://localhost:8080/",
          "height": 17
        },
        "id": "o1R6BoaUZ-xk",
        "outputId": "29a3a337-8a3c-451d-fad9-b920caef282d"
      },
      "id": "o1R6BoaUZ-xk",
      "execution_count": 6,
      "outputs": [
        {
          "output_type": "display_data",
          "data": {
            "text/plain": [
              "<IPython.core.display.Javascript object>"
            ],
            "application/javascript": [
              "\n",
              "    async function download(id, filename, size) {\n",
              "      if (!google.colab.kernel.accessAllowed) {\n",
              "        return;\n",
              "      }\n",
              "      const div = document.createElement('div');\n",
              "      const label = document.createElement('label');\n",
              "      label.textContent = `Downloading \"${filename}\": `;\n",
              "      div.appendChild(label);\n",
              "      const progress = document.createElement('progress');\n",
              "      progress.max = size;\n",
              "      div.appendChild(progress);\n",
              "      document.body.appendChild(div);\n",
              "\n",
              "      const buffers = [];\n",
              "      let downloaded = 0;\n",
              "\n",
              "      const channel = await google.colab.kernel.comms.open(id);\n",
              "      // Send a message to notify the kernel that we're ready.\n",
              "      channel.send({})\n",
              "\n",
              "      for await (const message of channel.messages) {\n",
              "        // Send a message to notify the kernel that we're ready.\n",
              "        channel.send({})\n",
              "        if (message.buffers) {\n",
              "          for (const buffer of message.buffers) {\n",
              "            buffers.push(buffer);\n",
              "            downloaded += buffer.byteLength;\n",
              "            progress.value = downloaded;\n",
              "          }\n",
              "        }\n",
              "      }\n",
              "      const blob = new Blob(buffers, {type: 'application/binary'});\n",
              "      const a = document.createElement('a');\n",
              "      a.href = window.URL.createObjectURL(blob);\n",
              "      a.download = filename;\n",
              "      div.appendChild(a);\n",
              "      a.click();\n",
              "      div.remove();\n",
              "    }\n",
              "  "
            ]
          },
          "metadata": {}
        },
        {
          "output_type": "display_data",
          "data": {
            "text/plain": [
              "<IPython.core.display.Javascript object>"
            ],
            "application/javascript": [
              "download(\"download_ec052721-8177-4a67-9e8f-5a6b72039cc0\", \"combined_mrc_sheets.xlsx\", 16088)"
            ]
          },
          "metadata": {}
        }
      ]
    }
  ],
  "metadata": {
    "kernelspec": {
      "display_name": "Python 3 (ipykernel)",
      "language": "python",
      "name": "python3"
    },
    "language_info": {
      "codemirror_mode": {
        "name": "ipython",
        "version": 3
      },
      "file_extension": ".py",
      "mimetype": "text/x-python",
      "name": "python",
      "nbconvert_exporter": "python",
      "pygments_lexer": "ipython3",
      "version": "3.9.13"
    },
    "colab": {
      "provenance": [],
      "include_colab_link": true
    }
  },
  "nbformat": 4,
  "nbformat_minor": 5
}